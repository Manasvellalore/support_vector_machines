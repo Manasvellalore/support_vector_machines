{
 "cells": [
  {
   "cell_type": "markdown",
   "metadata": {},
   "source": [
    "# Letter Recognition Using SVM\n",
    "\n",
    "Let's now tackle a slightly more complex problem - letter recognition. We'll first explore the dataset a bit, prepare it (scale etc.) and then experiment with linear and non-linear SVMs with various hyperparameters.\n",
    "\n",
    "\n",
    "## Data Understanding \n",
    "\n",
    "Let's first understand the shape, attributes etc. of the dataset."
   ]
  },
  {
   "cell_type": "code",
   "execution_count": 1,
   "metadata": {},
   "outputs": [],
   "source": [
    "# libraries\n",
    "import pandas as pd\n",
    "import numpy as np\n",
    "from sklearn.svm import SVC\n",
    "from sklearn.model_selection import train_test_split\n",
    "from sklearn import metrics\n",
    "from sklearn.metrics import confusion_matrix\n",
    "from sklearn.model_selection import KFold\n",
    "from sklearn.model_selection import cross_val_score\n",
    "from sklearn.model_selection import GridSearchCV\n",
    "import matplotlib.pyplot as plt\n",
    "import seaborn as sns\n",
    "from sklearn.preprocessing import scale\n",
    "\n",
    "# dataset\n",
    "letters = pd.read_csv(\"C:\\\\Users\\\\deepa\\\\Downloads\\\\letter-recognition.csv\")"
   ]
  },
  {
   "cell_type": "code",
   "execution_count": 2,
   "metadata": {
    "scrolled": true
   },
   "outputs": [
    {
     "name": "stdout",
     "output_type": "stream",
     "text": [
      "Dimensions:  (20000, 17) \n",
      "\n",
      "<class 'pandas.core.frame.DataFrame'>\n",
      "RangeIndex: 20000 entries, 0 to 19999\n",
      "Data columns (total 17 columns):\n",
      " #   Column  Non-Null Count  Dtype \n",
      "---  ------  --------------  ----- \n",
      " 0   letter  20000 non-null  object\n",
      " 1   xbox    20000 non-null  int64 \n",
      " 2   ybox    20000 non-null  int64 \n",
      " 3   width   20000 non-null  int64 \n",
      " 4   height  20000 non-null  int64 \n",
      " 5   onpix   20000 non-null  int64 \n",
      " 6   xbar    20000 non-null  int64 \n",
      " 7   ybar    20000 non-null  int64 \n",
      " 8   x2bar   20000 non-null  int64 \n",
      " 9   y2bar   20000 non-null  int64 \n",
      " 10  xybar   20000 non-null  int64 \n",
      " 11  x2ybar  20000 non-null  int64 \n",
      " 12  xy2bar  20000 non-null  int64 \n",
      " 13  xedge   20000 non-null  int64 \n",
      " 14  xedgey  20000 non-null  int64 \n",
      " 15  yedge   20000 non-null  int64 \n",
      " 16  yedgex  20000 non-null  int64 \n",
      "dtypes: int64(16), object(1)\n",
      "memory usage: 2.6+ MB\n",
      "None\n"
     ]
    },
    {
     "data": {
      "text/html": [
       "<div>\n",
       "<style scoped>\n",
       "    .dataframe tbody tr th:only-of-type {\n",
       "        vertical-align: middle;\n",
       "    }\n",
       "\n",
       "    .dataframe tbody tr th {\n",
       "        vertical-align: top;\n",
       "    }\n",
       "\n",
       "    .dataframe thead th {\n",
       "        text-align: right;\n",
       "    }\n",
       "</style>\n",
       "<table border=\"1\" class=\"dataframe\">\n",
       "  <thead>\n",
       "    <tr style=\"text-align: right;\">\n",
       "      <th></th>\n",
       "      <th>letter</th>\n",
       "      <th>xbox</th>\n",
       "      <th>ybox</th>\n",
       "      <th>width</th>\n",
       "      <th>height</th>\n",
       "      <th>onpix</th>\n",
       "      <th>xbar</th>\n",
       "      <th>ybar</th>\n",
       "      <th>x2bar</th>\n",
       "      <th>y2bar</th>\n",
       "      <th>xybar</th>\n",
       "      <th>x2ybar</th>\n",
       "      <th>xy2bar</th>\n",
       "      <th>xedge</th>\n",
       "      <th>xedgey</th>\n",
       "      <th>yedge</th>\n",
       "      <th>yedgex</th>\n",
       "    </tr>\n",
       "  </thead>\n",
       "  <tbody>\n",
       "    <tr>\n",
       "      <th>0</th>\n",
       "      <td>T</td>\n",
       "      <td>2</td>\n",
       "      <td>8</td>\n",
       "      <td>3</td>\n",
       "      <td>5</td>\n",
       "      <td>1</td>\n",
       "      <td>8</td>\n",
       "      <td>13</td>\n",
       "      <td>0</td>\n",
       "      <td>6</td>\n",
       "      <td>6</td>\n",
       "      <td>10</td>\n",
       "      <td>8</td>\n",
       "      <td>0</td>\n",
       "      <td>8</td>\n",
       "      <td>0</td>\n",
       "      <td>8</td>\n",
       "    </tr>\n",
       "    <tr>\n",
       "      <th>1</th>\n",
       "      <td>I</td>\n",
       "      <td>5</td>\n",
       "      <td>12</td>\n",
       "      <td>3</td>\n",
       "      <td>7</td>\n",
       "      <td>2</td>\n",
       "      <td>10</td>\n",
       "      <td>5</td>\n",
       "      <td>5</td>\n",
       "      <td>4</td>\n",
       "      <td>13</td>\n",
       "      <td>3</td>\n",
       "      <td>9</td>\n",
       "      <td>2</td>\n",
       "      <td>8</td>\n",
       "      <td>4</td>\n",
       "      <td>10</td>\n",
       "    </tr>\n",
       "    <tr>\n",
       "      <th>2</th>\n",
       "      <td>D</td>\n",
       "      <td>4</td>\n",
       "      <td>11</td>\n",
       "      <td>6</td>\n",
       "      <td>8</td>\n",
       "      <td>6</td>\n",
       "      <td>10</td>\n",
       "      <td>6</td>\n",
       "      <td>2</td>\n",
       "      <td>6</td>\n",
       "      <td>10</td>\n",
       "      <td>3</td>\n",
       "      <td>7</td>\n",
       "      <td>3</td>\n",
       "      <td>7</td>\n",
       "      <td>3</td>\n",
       "      <td>9</td>\n",
       "    </tr>\n",
       "    <tr>\n",
       "      <th>3</th>\n",
       "      <td>N</td>\n",
       "      <td>7</td>\n",
       "      <td>11</td>\n",
       "      <td>6</td>\n",
       "      <td>6</td>\n",
       "      <td>3</td>\n",
       "      <td>5</td>\n",
       "      <td>9</td>\n",
       "      <td>4</td>\n",
       "      <td>6</td>\n",
       "      <td>4</td>\n",
       "      <td>4</td>\n",
       "      <td>10</td>\n",
       "      <td>6</td>\n",
       "      <td>10</td>\n",
       "      <td>2</td>\n",
       "      <td>8</td>\n",
       "    </tr>\n",
       "    <tr>\n",
       "      <th>4</th>\n",
       "      <td>G</td>\n",
       "      <td>2</td>\n",
       "      <td>1</td>\n",
       "      <td>3</td>\n",
       "      <td>1</td>\n",
       "      <td>1</td>\n",
       "      <td>8</td>\n",
       "      <td>6</td>\n",
       "      <td>6</td>\n",
       "      <td>6</td>\n",
       "      <td>6</td>\n",
       "      <td>5</td>\n",
       "      <td>9</td>\n",
       "      <td>1</td>\n",
       "      <td>7</td>\n",
       "      <td>5</td>\n",
       "      <td>10</td>\n",
       "    </tr>\n",
       "  </tbody>\n",
       "</table>\n",
       "</div>"
      ],
      "text/plain": [
       "  letter  xbox   ybox   width   height  onpix   xbar   ybar   x2bar  y2bar   \\\n",
       "0      T      2      8       3       5       1      8     13      0       6   \n",
       "1      I      5     12       3       7       2     10      5      5       4   \n",
       "2      D      4     11       6       8       6     10      6      2       6   \n",
       "3      N      7     11       6       6       3      5      9      4       6   \n",
       "4      G      2      1       3       1       1      8      6      6       6   \n",
       "\n",
       "   xybar   x2ybar  xy2bar  xedge   xedgey  yedge   yedgex  \n",
       "0       6      10       8       0       8       0       8  \n",
       "1      13       3       9       2       8       4      10  \n",
       "2      10       3       7       3       7       3       9  \n",
       "3       4       4      10       6      10       2       8  \n",
       "4       6       5       9       1       7       5      10  "
      ]
     },
     "execution_count": 2,
     "metadata": {},
     "output_type": "execute_result"
    }
   ],
   "source": [
    "# about the dataset\n",
    "\n",
    "# dimensions\n",
    "print(\"Dimensions: \", letters.shape, \"\\n\")\n",
    "\n",
    "# data types\n",
    "print(letters.info())\n",
    "\n",
    "# head\n",
    "letters.head()"
   ]
  },
  {
   "cell_type": "code",
   "execution_count": 3,
   "metadata": {},
   "outputs": [
    {
     "name": "stdout",
     "output_type": "stream",
     "text": [
      "Index(['letter', 'xbox ', 'ybox ', 'width ', 'height', 'onpix ', 'xbar ',\n",
      "       'ybar ', 'x2bar', 'y2bar ', 'xybar ', 'x2ybar', 'xy2bar', 'xedge ',\n",
      "       'xedgey', 'yedge ', 'yedgex'],\n",
      "      dtype='object')\n"
     ]
    }
   ],
   "source": [
    "# a quirky bug: the column names have a space, e.g. 'xbox ', which throws and error when indexed\n",
    "print(letters.columns)\n"
   ]
  },
  {
   "cell_type": "code",
   "execution_count": 4,
   "metadata": {},
   "outputs": [
    {
     "name": "stdout",
     "output_type": "stream",
     "text": [
      "Index(['letter', 'xbox', 'ybox', 'width', 'height', 'onpix', 'xbar', 'ybar',\n",
      "       'x2bar', 'y2bar', 'xybar', 'x2ybar', 'xy2bar', 'xedge', 'xedgey',\n",
      "       'yedge', 'yedgex'],\n",
      "      dtype='object')\n"
     ]
    }
   ],
   "source": [
    "# let's 'reindex' the column names\n",
    "letters.columns = ['letter', 'xbox', 'ybox', 'width', 'height', 'onpix', 'xbar',\n",
    "       'ybar', 'x2bar', 'y2bar', 'xybar', 'x2ybar', 'xy2bar', 'xedge',\n",
    "       'xedgey', 'yedge', 'yedgex']\n",
    "print(letters.columns)"
   ]
  },
  {
   "cell_type": "code",
   "execution_count": 5,
   "metadata": {},
   "outputs": [
    {
     "name": "stdout",
     "output_type": "stream",
     "text": [
      "['A', 'B', 'C', 'D', 'E', 'F', 'G', 'H', 'I', 'J', 'K', 'L', 'M', 'N', 'O', 'P', 'Q', 'R', 'S', 'T', 'U', 'V', 'W', 'X', 'Y', 'Z']\n"
     ]
    }
   ],
   "source": [
    "order = list(np.sort(letters['letter'].unique()))\n",
    "print(order)\n"
   ]
  },
  {
   "cell_type": "code",
   "execution_count": 6,
   "metadata": {},
   "outputs": [
    {
     "data": {
      "text/plain": [
       "<Axes: xlabel='letter', ylabel='xbox'>"
      ]
     },
     "execution_count": 6,
     "metadata": {},
     "output_type": "execute_result"
    },
    {
     "data": {
      "image/png": "[encoded data removed]",
      "text/plain": [
       "<Figure size 1600x800 with 1 Axes>"
      ]
     },
     "metadata": {},
     "output_type": "display_data"
    }
   ],
   "source": [
    "# basic plots: How do various attributes vary with the letters\n",
    "\n",
    "plt.figure(figsize=(16, 8))\n",
    "sns.barplot(x='letter', y='xbox', \n",
    "            data=letters, \n",
    "            order=order)"
   ]
  },
  {
   "cell_type": "code",
   "execution_count": 7,
   "metadata": {},
   "outputs": [
    {
     "data": {
      "text/html": [
       "<div>\n",
       "<style scoped>\n",
       "    .dataframe tbody tr th:only-of-type {\n",
       "        vertical-align: middle;\n",
       "    }\n",
       "\n",
       "    .dataframe tbody tr th {\n",
       "        vertical-align: top;\n",
       "    }\n",
       "\n",
       "    .dataframe thead th {\n",
       "        text-align: right;\n",
       "    }\n",
       "</style>\n",
       "<table border=\"1\" class=\"dataframe\">\n",
       "  <thead>\n",
       "    <tr style=\"text-align: right;\">\n",
       "      <th></th>\n",
       "      <th>xbox</th>\n",
       "      <th>ybox</th>\n",
       "      <th>width</th>\n",
       "      <th>height</th>\n",
       "      <th>onpix</th>\n",
       "      <th>xbar</th>\n",
       "      <th>ybar</th>\n",
       "      <th>x2bar</th>\n",
       "      <th>y2bar</th>\n",
       "      <th>xybar</th>\n",
       "      <th>x2ybar</th>\n",
       "      <th>xy2bar</th>\n",
       "      <th>xedge</th>\n",
       "      <th>xedgey</th>\n",
       "      <th>yedge</th>\n",
       "      <th>yedgex</th>\n",
       "    </tr>\n",
       "    <tr>\n",
       "      <th>letter</th>\n",
       "      <th></th>\n",
       "      <th></th>\n",
       "      <th></th>\n",
       "      <th></th>\n",
       "      <th></th>\n",
       "      <th></th>\n",
       "      <th></th>\n",
       "      <th></th>\n",
       "      <th></th>\n",
       "      <th></th>\n",
       "      <th></th>\n",
       "      <th></th>\n",
       "      <th></th>\n",
       "      <th></th>\n",
       "      <th></th>\n",
       "      <th></th>\n",
       "    </tr>\n",
       "  </thead>\n",
       "  <tbody>\n",
       "    <tr>\n",
       "      <th>A</th>\n",
       "      <td>3.337136</td>\n",
       "      <td>6.975919</td>\n",
       "      <td>5.128010</td>\n",
       "      <td>5.178707</td>\n",
       "      <td>2.991128</td>\n",
       "      <td>8.851711</td>\n",
       "      <td>3.631179</td>\n",
       "      <td>2.755387</td>\n",
       "      <td>2.043093</td>\n",
       "      <td>7.802281</td>\n",
       "      <td>2.338403</td>\n",
       "      <td>8.465146</td>\n",
       "      <td>2.771863</td>\n",
       "      <td>6.321926</td>\n",
       "      <td>2.875792</td>\n",
       "      <td>7.468948</td>\n",
       "    </tr>\n",
       "    <tr>\n",
       "      <th>B</th>\n",
       "      <td>3.985640</td>\n",
       "      <td>6.962141</td>\n",
       "      <td>5.088773</td>\n",
       "      <td>5.169713</td>\n",
       "      <td>4.596606</td>\n",
       "      <td>7.671018</td>\n",
       "      <td>7.062663</td>\n",
       "      <td>5.366841</td>\n",
       "      <td>5.571802</td>\n",
       "      <td>7.954308</td>\n",
       "      <td>5.506527</td>\n",
       "      <td>6.652742</td>\n",
       "      <td>3.117493</td>\n",
       "      <td>7.919060</td>\n",
       "      <td>6.612272</td>\n",
       "      <td>9.100522</td>\n",
       "    </tr>\n",
       "    <tr>\n",
       "      <th>C</th>\n",
       "      <td>4.031250</td>\n",
       "      <td>7.063859</td>\n",
       "      <td>4.701087</td>\n",
       "      <td>5.296196</td>\n",
       "      <td>2.775815</td>\n",
       "      <td>5.437500</td>\n",
       "      <td>7.627717</td>\n",
       "      <td>5.927989</td>\n",
       "      <td>7.177989</td>\n",
       "      <td>8.773098</td>\n",
       "      <td>7.494565</td>\n",
       "      <td>11.947011</td>\n",
       "      <td>1.991848</td>\n",
       "      <td>8.876359</td>\n",
       "      <td>4.080163</td>\n",
       "      <td>8.555707</td>\n",
       "    </tr>\n",
       "    <tr>\n",
       "      <th>D</th>\n",
       "      <td>4.023602</td>\n",
       "      <td>7.244720</td>\n",
       "      <td>5.170186</td>\n",
       "      <td>5.288199</td>\n",
       "      <td>4.026087</td>\n",
       "      <td>7.539130</td>\n",
       "      <td>6.806211</td>\n",
       "      <td>5.921739</td>\n",
       "      <td>6.508075</td>\n",
       "      <td>8.166460</td>\n",
       "      <td>5.111801</td>\n",
       "      <td>5.750311</td>\n",
       "      <td>3.365217</td>\n",
       "      <td>7.813665</td>\n",
       "      <td>3.971429</td>\n",
       "      <td>7.628571</td>\n",
       "    </tr>\n",
       "    <tr>\n",
       "      <th>E</th>\n",
       "      <td>3.727865</td>\n",
       "      <td>6.944010</td>\n",
       "      <td>4.756510</td>\n",
       "      <td>5.201823</td>\n",
       "      <td>3.679688</td>\n",
       "      <td>5.966146</td>\n",
       "      <td>7.352865</td>\n",
       "      <td>4.223958</td>\n",
       "      <td>7.585938</td>\n",
       "      <td>8.507812</td>\n",
       "      <td>6.242188</td>\n",
       "      <td>10.341146</td>\n",
       "      <td>2.127604</td>\n",
       "      <td>8.298177</td>\n",
       "      <td>6.022135</td>\n",
       "      <td>8.506510</td>\n",
       "    </tr>\n",
       "  </tbody>\n",
       "</table>\n",
       "</div>"
      ],
      "text/plain": [
       "            xbox      ybox     width    height     onpix      xbar      ybar  \\\n",
       "letter                                                                         \n",
       "A       3.337136  6.975919  5.128010  5.178707  2.991128  8.851711  3.631179   \n",
       "B       3.985640  6.962141  5.088773  5.169713  4.596606  7.671018  7.062663   \n",
       "C       4.031250  7.063859  4.701087  5.296196  2.775815  5.437500  7.627717   \n",
       "D       4.023602  7.244720  5.170186  5.288199  4.026087  7.539130  6.806211   \n",
       "E       3.727865  6.944010  4.756510  5.201823  3.679688  5.966146  7.352865   \n",
       "\n",
       "           x2bar     y2bar     xybar    x2ybar     xy2bar     xedge    xedgey  \\\n",
       "letter                                                                          \n",
       "A       2.755387  2.043093  7.802281  2.338403   8.465146  2.771863  6.321926   \n",
       "B       5.366841  5.571802  7.954308  5.506527   6.652742  3.117493  7.919060   \n",
       "C       5.927989  7.177989  8.773098  7.494565  11.947011  1.991848  8.876359   \n",
       "D       5.921739  6.508075  8.166460  5.111801   5.750311  3.365217  7.813665   \n",
       "E       4.223958  7.585938  8.507812  6.242188  10.341146  2.127604  8.298177   \n",
       "\n",
       "           yedge    yedgex  \n",
       "letter                      \n",
       "A       2.875792  7.468948  \n",
       "B       6.612272  9.100522  \n",
       "C       4.080163  8.555707  \n",
       "D       3.971429  7.628571  \n",
       "E       6.022135  8.506510  "
      ]
     },
     "execution_count": 7,
     "metadata": {},
     "output_type": "execute_result"
    }
   ],
   "source": [
    "letter_means = letters.groupby('letter').mean()\n",
    "letter_means.head()"
   ]
  },
  {
   "cell_type": "code",
   "execution_count": 8,
   "metadata": {},
   "outputs": [
    {
     "data": {
      "text/plain": [
       "<Axes: ylabel='letter'>"
      ]
     },
     "execution_count": 8,
     "metadata": {},
     "output_type": "execute_result"
    },
    {
     "data": {
      "image/png": "[encoded data removed]",
      "text/plain": [
       "<Figure size 1800x1000 with 2 Axes>"
      ]
     },
     "metadata": {},
     "output_type": "display_data"
    }
   ],
   "source": [
    "\n",
    "plt.figure(figsize=(18, 10))\n",
    "sns.heatmap(letter_means)"
   ]
  },
  {
   "cell_type": "markdown",
   "metadata": {},
   "source": [
    "## Data Preparation\n",
    "\n",
    "Let's conduct some data preparation steps before modeling. Firstly, let's see if it is important to **rescale** the features, since they may have varying ranges. For example, here are the average values:"
   ]
  },
  {
   "cell_type": "code",
   "execution_count": 9,
   "metadata": {},
   "outputs": [
    {
     "data": {
      "text/plain": [
       "xbox      4.02\n",
       "ybox      7.04\n",
       "width     5.12\n",
       "height    5.37\n",
       "onpix     3.51\n",
       "xbar      6.90\n",
       "ybar      7.50\n",
       "x2bar     4.63\n",
       "y2bar     5.18\n",
       "xybar     8.28\n",
       "x2ybar    6.45\n",
       "xy2bar    7.93\n",
       "xedge     3.05\n",
       "xedgey    8.34\n",
       "yedge     3.69\n",
       "yedgex    7.80\n",
       "dtype: float64"
      ]
     },
     "execution_count": 9,
     "metadata": {},
     "output_type": "execute_result"
    }
   ],
   "source": [
    "# average feature values\n",
    "round(letters.drop('letter', axis=1).mean(), 2)"
   ]
  },
  {
   "cell_type": "markdown",
   "metadata": {},
   "source": [
    "In this case, the average values do not vary a lot (e.g. having a diff of an order of magnitude). Nevertheless, it is better to rescale them."
   ]
  },
  {
   "cell_type": "code",
   "execution_count": 10,
   "metadata": {},
   "outputs": [],
   "source": [
    "# splitting into X and y\n",
    "X = letters.drop(\"letter\", axis = 1)\n",
    "y = letters['letter']"
   ]
  },
  {
   "cell_type": "code",
   "execution_count": 11,
   "metadata": {},
   "outputs": [],
   "source": [
    "# scaling the features\n",
    "X_scaled = scale(X)\n",
    "\n",
    "# train test split\n",
    "X_train, X_test, y_train, y_test = train_test_split(X_scaled, y, test_size = 0.3, random_state = 101)"
   ]
  },
  {
   "cell_type": "markdown",
   "metadata": {},
   "source": [
    "## Model Building\n",
    "\n",
    "Let's fist build two basic models - linear and non-linear with default hyperparameters, and compare the accuracies."
   ]
  },
  {
   "cell_type": "code",
   "execution_count": 12,
   "metadata": {},
   "outputs": [],
   "source": [
    "# linear model\n",
    "\n",
    "model_linear = SVC(kernel='linear')\n",
    "model_linear.fit(X_train, y_train)\n",
    "\n",
    "# predict\n",
    "y_pred = model_linear.predict(X_test)\n"
   ]
  },
  {
   "cell_type": "code",
   "execution_count": 13,
   "metadata": {},
   "outputs": [
    {
     "name": "stdout",
     "output_type": "stream",
     "text": [
      "accuracy: 0.8523333333333334 \n",
      "\n",
      "[[198   0   0   0   0   0   1   1   0   1   1   1   0   0   0   0   0   1\n",
      "    0   1   1   0   0   0   3   0]\n",
      " [  0 188   0   3   0   1   3   3   1   0   1   0   0   2   0   1   1   9\n",
      "    3   0   0   1   0   1   0   0]\n",
      " [  1   0 200   0   7   0  12   1   0   0   5   0   0   0   3   0   0   0\n",
      "    0   0   1   0   0   0   0   0]\n",
      " [  1  15   0 210   0   1   2   2   1   0   1   0   1   5   3   0   0   5\n",
      "    0   1   0   0   0   0   0   0]\n",
      " [  0   1   3   0 204   2   6   1   0   0   1   5   0   0   0   0   2   2\n",
      "    1   2   0   0   0   1   0   3]\n",
      " [  0   0   0   1   1 201   1   2   1   1   0   0   0   2   0   2   0   0\n",
      "    3   7   1   0   1   0   1   0]\n",
      " [  0   1   9   4   2   2 167   1   0   1   4   3   1   0   1   0   9   1\n",
      "    8   0   0   2   3   0   0   0]\n",
      " [  0   7   3  11   0   4   3 141   0   2   4   1   2   0  12   0   4  12\n",
      "    0   0   4   2   0   4   1   0]\n",
      " [  0   0   2   3   0   6   0   0 184   9   0   0   0   0   1   0   0   0\n",
      "    3   0   0   0   0   4   0   3]\n",
      " [  2   0   0   3   0   2   0   2  10 187   0   0   0   1   2   0   0   1\n",
      "    5   0   1   0   0   0   0   4]\n",
      " [  0   1   5   2   0   0   1   3   0   0 198   2   2   0   0   0   0  19\n",
      "    0   0   0   0   0  12   0   0]\n",
      " [  2   1   3   2   5   0   8   1   0   0   1 206   0   0   0   0   5   0\n",
      "    2   1   0   0   0   0   0   0]\n",
      " [  0   3   0   0   0   0   0   3   0   0   0   0 222   1   0   0   0   2\n",
      "    0   0   0   0   3   0   0   0]\n",
      " [  1   0   0   4   0   0   0   6   0   0   0   0   1 235   1   1   0   0\n",
      "    0   0   0   1   1   0   0   0]\n",
      " [  3   0   4   7   0   0   0  21   0   0   0   0   2   0 163   3   2   3\n",
      "    0   0   3   0  10   0   0   0]\n",
      " [  0   2   0   2   0  16   5   1   0   1   3   0   0   0   1 225   0   0\n",
      "    0   0   0   1   0   0   8   0]\n",
      " [  3   1   0   0   4   0   9   0   0   2   0   1   0   0   6   0 198   0\n",
      "    8   0   0   0   1   0   0   2]\n",
      " [ 11  11   0   2   0   1   6   3   0   0  10   0   0   3   4   0   2 188\n",
      "    0   1   0   0   0   1   0   0]\n",
      " [  1  13   0   0   9   5   8   0   7   1   0   2   0   0   0   1   6   1\n",
      "  155   6   0   0   0   3   0  10]\n",
      " [  0   0   0   1   1   4   2   4   1   0   0   0   0   0   0   0   0   1\n",
      "    3 214   0   0   0   1   1   6]\n",
      " [  2   0   1   2   0   0   0   2   0   0   0   0   1   1   3   0   0   0\n",
      "    0   0 211   0   1   0   0   0]\n",
      " [  2   2   0   0   0   0   1   3   0   0   0   0   0   1   0   1   0   3\n",
      "    0   0   0 190   6   0   2   0]\n",
      " [  0   0   0   0   0   0   1   0   0   0   0   0   6   1   2   0   0   0\n",
      "    0   0   0   0 212   0   0   0]\n",
      " [  0   2   0   4   5   0   1   0   2   3   3   3   0   0   1   0   0   1\n",
      "    2   2   1   0   0 212   1   1]\n",
      " [  2   0   0   0   0   2   0   1   0   0   0   0   1   0   0   0   3   0\n",
      "    0   4   1  10   0   2 211   0]\n",
      " [  1   0   0   0   3   0   0   0   0   6   0   0   0   0   0   0   5   0\n",
      "   18   1   0   0   0   1   0 194]]\n"
     ]
    }
   ],
   "source": [
    "# confusion matrix and accuracy\n",
    "\n",
    "# accuracy\n",
    "print(\"accuracy:\", metrics.accuracy_score(y_true=y_test, y_pred=y_pred), \"\\n\")\n",
    "\n",
    "# cm\n",
    "print(metrics.confusion_matrix(y_true=y_test, y_pred=y_pred))"
   ]
  },
  {
   "cell_type": "markdown",
   "metadata": {},
   "source": [
    "The linear model gives approx. 85% accuracy. Let's look at a sufficiently non-linear model with randomly chosen hyperparameters."
   ]
  },
  {
   "cell_type": "code",
   "execution_count": 14,
   "metadata": {},
   "outputs": [],
   "source": [
    "# non-linear model\n",
    "# using rbf kernel, C=1, default value of gamma\n",
    "\n",
    "# model\n",
    "non_linear_model = SVC(kernel='rbf')\n",
    "\n",
    "# fit\n",
    "non_linear_model.fit(X_train, y_train)\n",
    "\n",
    "# predict\n",
    "y_pred = non_linear_model.predict(X_test)"
   ]
  },
  {
   "cell_type": "code",
   "execution_count": 15,
   "metadata": {},
   "outputs": [
    {
     "name": "stdout",
     "output_type": "stream",
     "text": [
      "accuracy: 0.9383333333333334 \n",
      "\n",
      "[[205   0   0   1   0   0   0   0   0   1   0   0   0   0   0   0   0   0\n",
      "    0   0   0   0   0   0   2   0]\n",
      " [  0 205   0   3   1   0   1   0   0   0   0   0   0   0   0   0   0   6\n",
      "    1   0   0   0   0   1   0   0]\n",
      " [  0   0 213   0   5   0   7   1   0   0   0   0   0   0   4   0   0   0\n",
      "    0   0   0   0   0   0   0   0]\n",
      " [  0   4   0 234   0   0   1   3   0   0   0   0   0   3   1   0   0   2\n",
      "    0   0   0   0   0   0   0   0]\n",
      " [  0   0   0   0 221   1   9   0   0   0   0   0   0   0   0   0   0   1\n",
      "    0   0   0   0   0   0   0   2]\n",
      " [  0   0   0   1   0 215   1   1   1   0   0   0   0   1   0   1   0   0\n",
      "    1   3   0   0   0   0   0   0]\n",
      " [  0   0   3   4   1   1 202   0   0   0   0   1   1   0   2   0   0   1\n",
      "    0   0   0   1   2   0   0   0]\n",
      " [  0   7   0   5   0   0   4 177   0   0   2   0   1   0   3   0   4  13\n",
      "    0   0   1   0   0   0   0   0]\n",
      " [  0   0   1   1   0   3   0   0 194  11   0   0   0   0   0   1   0   0\n",
      "    2   0   0   0   0   2   0   0]\n",
      " [  1   0   0   1   0   0   0   0   6 206   0   0   0   1   2   0   0   0\n",
      "    2   0   0   0   0   1   0   0]\n",
      " [  0   4   0   2   0   0   0   4   0   0 217   0   1   0   0   0   0  14\n",
      "    0   0   0   0   0   3   0   0]\n",
      " [  0   0   1   0   2   0   6   0   0   0   1 222   0   0   0   0   0   3\n",
      "    0   0   0   0   0   2   0   0]\n",
      " [  0   5   0   0   0   0   0   2   0   0   0   0 225   0   0   0   0   0\n",
      "    0   0   0   0   2   0   0   0]\n",
      " [  0   2   0   1   0   0   0   2   0   0   0   0   1 239   3   0   0   2\n",
      "    0   0   0   0   0   0   1   0]\n",
      " [  0   0   0   1   0   0   0   0   0   0   0   0   0   0 209   0   1   1\n",
      "    0   0   1   0   8   0   0   0]\n",
      " [  0   2   0   3   3  11   1   1   0   0   0   0   0   0   1 237   1   0\n",
      "    0   0   0   0   0   0   5   0]\n",
      " [  0   0   0   0   2   0   2   0   0   0   0   0   0   0   6   0 222   0\n",
      "    1   0   0   0   2   0   0   0]\n",
      " [  0  10   0   2   0   0   0   0   0   0   1   0   0   4   0   0   2 224\n",
      "    0   0   0   0   0   0   0   0]\n",
      " [  0   3   0   0   2   3   0   0   0   0   0   0   0   0   0   0   0   0\n",
      "  220   0   0   0   0   0   0   0]\n",
      " [  0   0   0   1   0   2   0   2   0   0   0   0   0   0   0   1   0   1\n",
      "    0 228   0   0   0   3   1   0]\n",
      " [  0   0   0   0   0   0   0   0   0   0   0   0   0   1   1   0   0   0\n",
      "    0   0 222   0   0   0   0   0]\n",
      " [  0   7   0   0   0   0   0   1   0   0   0   0   1   4   0   1   0   0\n",
      "    0   0   0 193   1   0   3   0]\n",
      " [  0   1   0   0   0   0   1   1   0   0   0   0   0   1   0   0   0   0\n",
      "    0   0   1   0 217   0   0   0]\n",
      " [  0   2   0   3   2   0   0   0   1   0   2   0   0   0   0   0   0   1\n",
      "    0   0   0   0   0 233   0   0]\n",
      " [  2   0   0   0   0   0   0   0   0   0   0   0   1   0   0   0   1   0\n",
      "    0   1   2   2   0   0 228   0]\n",
      " [  0   0   0   0   2   0   0   0   0   0   0   0   0   0   0   0   4   0\n",
      "    1   0   0   0   0   0   0 222]]\n"
     ]
    }
   ],
   "source": [
    "# confusion matrix and accuracy\n",
    "\n",
    "# accuracy\n",
    "print(\"accuracy:\", metrics.accuracy_score(y_true=y_test, y_pred=y_pred), \"\\n\")\n",
    "\n",
    "# cm\n",
    "print(metrics.confusion_matrix(y_true=y_test, y_pred=y_pred))"
   ]
  },
  {
   "cell_type": "markdown",
   "metadata": {},
   "source": [
    "The non-linear model gives approx. 93% accuracy. Thus, going forward, let's choose hyperparameters corresponding to non-linear models."
   ]
  },
  {
   "cell_type": "markdown",
   "metadata": {},
   "source": [
    "## Grid Search: Hyperparameter Tuning\n",
    "\n",
    "Let's now tune the model to find the optimal values of C and gamma corresponding to an RBF kernel. We'll use 5-fold cross validation."
   ]
  },
  {
   "cell_type": "code",
   "execution_count": null,
   "metadata": {},
   "outputs": [
    {
     "name": "stdout",
     "output_type": "stream",
     "text": [
      "Fitting 5 folds for each of 12 candidates, totalling 60 fits\n"
     ]
    }
   ],
   "source": [
    "# creating a KFold object with 5 splits \n",
    "folds = KFold(n_splits = 5, shuffle = True, random_state = 101)\n",
    "\n",
    "# specify range of hyperparameters\n",
    "# Set the parameters by cross-validation\n",
    "hyper_params = [ {'gamma': [1e-2, 1e-3, 1e-4],\n",
    "                     'C': [1, 10, 100, 1000]}]\n",
    "\n",
    "\n",
    "# specify model\n",
    "model = SVC(kernel=\"rbf\")\n",
    "\n",
    "# set up GridSearchCV()\n",
    "model_cv = GridSearchCV(estimator = model, \n",
    "                        param_grid = hyper_params, \n",
    "                        scoring= 'accuracy', \n",
    "                        cv = folds, \n",
    "                        verbose = 1,\n",
    "                        return_train_score=True)      \n",
    "\n",
    "# fit the model\n",
    "model_cv.fit(X_train, y_train)                  \n"
   ]
  },
  {
   "cell_type": "code",
   "execution_count": null,
   "metadata": {},
   "outputs": [],
   "source": [
    "# cv results\n",
    "cv_results = pd.DataFrame(model_cv.cv_results_)\n",
    "cv_results"
   ]
  },
  {
   "cell_type": "code",
   "execution_count": null,
   "metadata": {},
   "outputs": [],
   "source": [
    "# converting C to numeric type for plotting on x-axis\n",
    "cv_results['param_C'] = cv_results['param_C'].astype('int')\n",
    "\n",
    "# # plotting\n",
    "plt.figure(figsize=(16,6))\n",
    "\n",
    "# subplot 1/3\n",
    "plt.subplot(131)\n",
    "gamma_01 = cv_results[cv_results['param_gamma']==0.01]\n",
    "\n",
    "plt.plot(gamma_01[\"param_C\"], gamma_01[\"mean_test_score\"])\n",
    "plt.plot(gamma_01[\"param_C\"], gamma_01[\"mean_train_score\"])\n",
    "plt.xlabel('C')\n",
    "plt.ylabel('Accuracy')\n",
    "plt.title(\"Gamma=0.01\")\n",
    "plt.ylim([0.60, 1])\n",
    "plt.legend(['test accuracy', 'train accuracy'], loc='upper left')\n",
    "plt.xscale('log')\n",
    "\n",
    "# subplot 2/3\n",
    "plt.subplot(132)\n",
    "gamma_001 = cv_results[cv_results['param_gamma']==0.001]\n",
    "\n",
    "plt.plot(gamma_001[\"param_C\"], gamma_001[\"mean_test_score\"])\n",
    "plt.plot(gamma_001[\"param_C\"], gamma_001[\"mean_train_score\"])\n",
    "plt.xlabel('C')\n",
    "plt.ylabel('Accuracy')\n",
    "plt.title(\"Gamma=0.001\")\n",
    "plt.ylim([0.60, 1])\n",
    "plt.legend(['test accuracy', 'train accuracy'], loc='upper left')\n",
    "plt.xscale('log')\n",
    "\n",
    "\n",
    "# subplot 3/3\n",
    "plt.subplot(133)\n",
    "gamma_0001 = cv_results[cv_results['param_gamma']==0.0001]\n",
    "\n",
    "plt.plot(gamma_0001[\"param_C\"], gamma_0001[\"mean_test_score\"])\n",
    "plt.plot(gamma_0001[\"param_C\"], gamma_0001[\"mean_train_score\"])\n",
    "plt.xlabel('C')\n",
    "plt.ylabel('Accuracy')\n",
    "plt.title(\"Gamma=0.0001\")\n",
    "plt.ylim([0.60, 1])\n",
    "plt.legend(['test accuracy', 'train accuracy'], loc='upper left')\n",
    "plt.xscale('log')\n"
   ]
  },
  {
   "cell_type": "markdown",
   "metadata": {},
   "source": [
    "The plots above show some useful insights:\n",
    "- Non-linear models (high gamma) perform *much better* than the linear ones\n",
    "- At any value of gamma, a high value of C leads to better performance\n",
    "- None of the models tend to overfit (even the complex ones), since the training and test accuracies closely follow each other\n",
    "\n",
    "This suggests that the problem and the data is **inherently non-linear** in nature, and a complex model will outperform simple, linear models in this case."
   ]
  },
  {
   "cell_type": "markdown",
   "metadata": {},
   "source": [
    "Let's now choose the best hyperparameters. "
   ]
  },
  {
   "cell_type": "code",
   "execution_count": null,
   "metadata": {},
   "outputs": [],
   "source": [
    "# printing the optimal accuracy score and hyperparameters\n",
    "best_score = model_cv.best_score_\n",
    "best_hyperparams = model_cv.best_params_\n",
    "\n",
    "print(\"The best test score is {0} corresponding to hyperparameters {1}\".format(best_score, best_hyperparams))"
   ]
  },
  {
   "cell_type": "markdown",
   "metadata": {},
   "source": [
    "### Building and Evaluating the Final Model\n",
    "\n",
    "Let's now build and evaluate the final model, i.e. the model with highest test accuracy."
   ]
  },
  {
   "cell_type": "code",
   "execution_count": null,
   "metadata": {},
   "outputs": [],
   "source": [
    "# model with optimal hyperparameters\n",
    "\n",
    "# model\n",
    "model = SVC(C=1000, gamma=0.01, kernel=\"rbf\")\n",
    "\n",
    "model.fit(X_train, y_train)\n",
    "y_pred = model.predict(X_test)\n",
    "\n",
    "# metrics\n",
    "print(\"accuracy\", metrics.accuracy_score(y_test, y_pred), \"\\n\")\n",
    "print(metrics.confusion_matrix(y_test, y_pred), \"\\n\")\n",
    "\n"
   ]
  },
  {
   "cell_type": "markdown",
   "metadata": {},
   "source": [
    "## Conclusion\n",
    "\n",
    "The accuracy achieved using a non-linear kernel (~0.95) is mush higher than that of a linear one (~0.85). We can conclude that the problem is highly non-linear in nature."
   ]
  }
 ],
 "metadata": {
  "kernelspec": {
   "display_name": "Python 3 (ipykernel)",
   "language": "python",
   "name": "python3"
  },
  "language_info": {
   "codemirror_mode": {
    "name": "ipython",
    "version": 3
   },
   "file_extension": ".py",
   "mimetype": "text/x-python",
   "name": "python",
   "nbconvert_exporter": "python",
   "pygments_lexer": "ipython3",
   "version": "3.12.7"
  }
 },
 "nbformat": 4,
 "nbformat_minor": 4
}
